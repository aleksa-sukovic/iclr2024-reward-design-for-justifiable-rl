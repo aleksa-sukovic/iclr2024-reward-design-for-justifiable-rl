{
 "cells": [
  {
   "cell_type": "code",
   "execution_count": 1,
   "metadata": {},
   "outputs": [
    {
     "name": "stdout",
     "output_type": "stream",
     "text": [
      "The autoreload extension is already loaded. To reload it, use:\n",
      "  %reload_ext autoreload\n"
     ]
    }
   ],
   "source": [
    "%load_ext autoreload\n",
    "%autoreload 2"
   ]
  },
  {
   "cell_type": "code",
   "execution_count": 2,
   "metadata": {},
   "outputs": [],
   "source": [
    "import torch\n",
    "import pickle\n",
    "import numpy as np\n",
    "import pandas as pd\n",
    "import seaborn as sns\n",
    "import matplotlib.pyplot as plt"
   ]
  },
  {
   "cell_type": "code",
   "execution_count": 3,
   "metadata": {},
   "outputs": [],
   "source": [
    "from pathlib import Path\n",
    "from tianshou.data import Batch"
   ]
  },
  {
   "cell_type": "code",
   "execution_count": 4,
   "metadata": {},
   "outputs": [
    {
     "name": "stderr",
     "output_type": "stream",
     "text": [
      "Importing display from IPython.core.display is deprecated since IPython 7.14, please import from IPython display\n",
      "Importing display from IPython.core.display is deprecated since IPython 7.14, please import from IPython display\n",
      "Importing display from IPython.core.display is deprecated since IPython 7.14, please import from IPython display\n"
     ]
    }
   ],
   "source": [
    "from argo.models.protagonist import DQNPolicy\n",
    "from argo.datasets.sepsis import get_patient_dataset, get_judge_dataset\n",
    "from argo.library.evaluation import wis_clinician, jstf, full_vs_partial_context, get_action_counts"
   ]
  },
  {
   "cell_type": "code",
   "execution_count": 5,
   "metadata": {},
   "outputs": [],
   "source": [
    "_ = sns.set_style(\"darkgrid\")\n",
    "_ = torch.manual_seed(5568)\n",
    "_ = np.random.seed(5568)"
   ]
  },
  {
   "cell_type": "code",
   "execution_count": 6,
   "metadata": {},
   "outputs": [],
   "source": [
    "discount = 0.99\n",
    "action_dim = 25\n",
    "device = torch.device(\"cuda:0\")\n",
    "seeds = [202302, 667495, 114159, 965751, 448102]\n",
    "train_dict = torch.load(\"./assets/data/sepsis/train_dict.pt\", map_location=device)\n",
    "val_dict = torch.load(\"./assets/data/sepsis/val_dict.pt\", map_location=device)\n",
    "test_dict = torch.load(\"./assets/data/sepsis/test_dict.pt\", map_location=device)\n",
    "clinician = torch.load(\"./assets/models/clinician/clinician.pt\", map_location=device)[\"model\"]\n",
    "results_dir = Path(\"./results/\")"
   ]
  },
  {
   "attachments": {},
   "cell_type": "markdown",
   "metadata": {},
   "source": [
    "## Evaluation of Sepsis Treatment Policy\n",
    "\n",
    "This section evaluates the effectivness of policies in treating sepsis."
   ]
  },
  {
   "cell_type": "code",
   "execution_count": 18,
   "metadata": {},
   "outputs": [],
   "source": [
    "# Judge models (6 and 4 arguments versions)\n",
    "judge = torch.load(\"./assets/models/judge/judge.pt\", map_location=device).eval()\n",
    "judge_4arg = torch.load(\"./assets/models/judge/judge.4.pt\", map_location=device).eval()\n",
    "\n",
    "# Argumentator model (6 arguments version)\n",
    "argumentator = torch.load(\"./assets/models/argumentator/6/argumentator.debate-minimax.pt\", map_location=device)[\"model\"].eval()\n",
    "argumentator._deterministic_eval = True\n",
    "\n",
    "# Argumentator model (4 arguments version)\n",
    "argumentator_4arg = torch.load(\"./assets/models/argumentator/4/argumentator.debate-minimax.pt\", map_location=device)[\"model\"].eval()\n",
    "argumentator_4arg._deterministic_eval = True"
   ]
  },
  {
   "cell_type": "markdown",
   "metadata": {},
   "source": [
    "Results of task policy training using 6-arguments debate (apart from l00, which is the *baseline*)."
   ]
  },
  {
   "cell_type": "code",
   "execution_count": 17,
   "metadata": {},
   "outputs": [],
   "source": [
    "protagonist_l00_jstf  = [torch.load(f\"./assets/models/protagonist/ddqn/justifiable/6/l00/protagonist-s{s}.pt\", map_location=device)[\"model\"].eval() for s in seeds]\n",
    "protagonist_l25_jstf  = [torch.load(f\"./assets/models/protagonist/ddqn/justifiable/6/l25/protagonist-s{s}.pt\", map_location=device)[\"model\"].eval() for s in seeds]\n",
    "protagonist_l50_jstf  = [torch.load(f\"./assets/models/protagonist/ddqn/justifiable/6/l50/protagonist-s{s}.pt\", map_location=device)[\"model\"].eval() for s in seeds]\n",
    "protagonist_l75_jstf  = [torch.load(f\"./assets/models/protagonist/ddqn/justifiable/6/l75/protagonist-s{s}.pt\", map_location=device)[\"model\"].eval() for s in seeds]\n",
    "protagonist_l100_jstf = [torch.load(f\"./assets/models/protagonist/ddqn/justifiable/6/l100/protagonist-s{s}.pt\", map_location=device)[\"model\"].eval() for s in seeds]"
   ]
  },
  {
   "cell_type": "markdown",
   "metadata": {},
   "source": [
    "Results of task policy training using 4-arguments debate (apart from l00, which is the *baseline*, same as in 6-arguments case, copied here for convenience)."
   ]
  },
  {
   "cell_type": "code",
   "execution_count": 16,
   "metadata": {},
   "outputs": [],
   "source": [
    "protagonist_l00_jstf_4arg  = [torch.load(f\"./assets/models/protagonist/ddqn/justifiable/4/l00/protagonist-s{s}.pt\", map_location=device)[\"model\"].eval() for s in seeds]\n",
    "protagonist_l25_jstf_4arg  = [torch.load(f\"./assets/models/protagonist/ddqn/justifiable/4/l25/protagonist-s{s}.pt\", map_location=device)[\"model\"].eval() for s in seeds]\n",
    "protagonist_l50_jstf_4arg  = [torch.load(f\"./assets/models/protagonist/ddqn/justifiable/4/l50/protagonist-s{s}.pt\", map_location=device)[\"model\"].eval() for s in seeds]\n",
    "protagonist_l75_jstf_4arg  = [torch.load(f\"./assets/models/protagonist/ddqn/justifiable/4/l75/protagonist-s{s}.pt\", map_location=device)[\"model\"].eval() for s in seeds]\n",
    "protagonist_l100_jstf_4arg = [torch.load(f\"./assets/models/protagonist/ddqn/justifiable/4/l100/protagonist-s{s}.pt\", map_location=device)[\"model\"].eval() for s in seeds]"
   ]
  },
  {
   "cell_type": "markdown",
   "metadata": {},
   "source": [
    "Results of task policy training using judge with access to the full state (apart from l00, which is the *baseline*, same as in 6-arguments case, copied here for convenience)."
   ]
  },
  {
   "cell_type": "code",
   "execution_count": 15,
   "metadata": {},
   "outputs": [],
   "source": [
    "protagonist_l00_full_state  = [torch.load(f\"./assets/models/protagonist/ddqn/full_state/l00/protagonist-s{s}.pt\", map_location=device)[\"model\"].eval() for s in seeds]\n",
    "protagonist_l25_full_state  = [torch.load(f\"./assets/models/protagonist/ddqn/full_state/l25/protagonist-s{s}.pt\", map_location=device)[\"model\"].eval() for s in seeds]\n",
    "protagonist_l50_full_state  = [torch.load(f\"./assets/models/protagonist/ddqn/full_state/l50/protagonist-s{s}.pt\", map_location=device)[\"model\"].eval() for s in seeds]\n",
    "protagonist_l75_full_state  = [torch.load(f\"./assets/models/protagonist/ddqn/full_state/l75/protagonist-s{s}.pt\", map_location=device)[\"model\"].eval() for s in seeds]\n",
    "protagonist_l100_full_state = [torch.load(f\"./assets/models/protagonist/ddqn/full_state/l100/protagonist-s{s}.pt\", map_location=device)[\"model\"].eval() for s in seeds]"
   ]
  },
  {
   "cell_type": "markdown",
   "metadata": {},
   "source": [
    "### Qualitative Analysis\n",
    "\n",
    "In this section, we perform different analysis pertaining to patient mortality, justifiability and overall policy quality."
   ]
  },
  {
   "attachments": {},
   "cell_type": "markdown",
   "metadata": {},
   "source": [
    "#### Dose Excess for Different Justifiability Levels\n",
    "\n",
    "To start with, we first show the dose excess for each of the values of lambda in a single plot for intravenous fluids (IV) and vasopressors (VC)."
   ]
  },
  {
   "cell_type": "code",
   "execution_count": 11,
   "metadata": {},
   "outputs": [],
   "source": [
    "data_raw = pd.read_csv(\"./assets/data/sepsis/sepsis_final_data_raw.csv\")"
   ]
  },
  {
   "cell_type": "code",
   "execution_count": 12,
   "metadata": {},
   "outputs": [],
   "source": [
    "data_filtered = data_raw[(data_raw[\"r:reward\"] != 0) & (data_raw[\"o:SOFA\"] >= 0) & (data_raw[\"o:SOFA\"] <= 15)]\n",
    "data_ids = data_filtered[\"traj\"].tolist()"
   ]
  },
  {
   "cell_type": "code",
   "execution_count": 13,
   "metadata": {},
   "outputs": [],
   "source": [
    "_, dataloader, _ = get_patient_dataset(data_dict=test_dict, filter_ids=data_ids, batch_size=128, use_dem=True, mask=False, num_workers=0)\n",
    "iv_median = torch.tensor([0.0, 30.0, 85.0, 320.0, 946.0]).repeat_interleave(5).to(device)\n",
    "vc_median = torch.tensor([0.0, 0.04, 0.13, 0.27, 0.68]).repeat(5).to(device)"
   ]
  },
  {
   "cell_type": "code",
   "execution_count": 17,
   "metadata": {},
   "outputs": [],
   "source": [
    "def get_excess_mortality(protagonist: DQNPolicy, label: str, seed: int, medication: str = \"iv\", bins: int = 7):\n",
    "    excess_count = torch.empty((0, ), dtype=torch.float32, device=device)\n",
    "    excess_mortality = torch.empty((0, ), dtype=torch.float32, device=device)\n",
    "\n",
    "    for s, a_true, r, _, _ in dataloader:\n",
    "        s, r = s.to(device), r.to(device)\n",
    "        a_true = a_true.argmax(dim=-1).float().to(device)\n",
    "        a_prot = torch.tensor(protagonist(Batch(obs=s.flatten(end_dim=1), info={})).act.reshape(a_true.shape), device=device).float()\n",
    "\n",
    "        mask = (r == 0)\n",
    "        s, r, a_true, a_prot = s[~mask], r[~mask], a_true[~mask], a_prot[~mask]\n",
    "\n",
    "        # calculate dose excess of clinician from the AI policy \n",
    "        doses = iv_median if medication == \"iv\" else vc_median\n",
    "        for a in range(action_dim): a_true[a_true == a], a_prot[a_prot == a] = doses[a], doses[a]\n",
    "        excess = (a_true - a_prot)\n",
    "        excess_count = torch.cat((excess_count, excess))\n",
    "\n",
    "        # calculate observed mortality\n",
    "        mortality = (r == -1.0).int()\n",
    "        excess_mortality = torch.cat((excess_mortality, mortality))\n",
    "\n",
    "    df = pd.DataFrame(torch.cat((excess_count[:, None], excess_mortality[:, None]), dim=-1).cpu().numpy(), columns=[\"excess\", \"mortality\"])\n",
    "    df[\"excess\"] = pd.cut(df[\"excess\"], bins=bins, include_lowest=True, precision=2)\n",
    "    df[\"excess\"] = df[\"excess\"].map(lambda x: x.mid)\n",
    "    df[\"label\"], df[\"seed\"] = label, seed\n",
    "    return df"
   ]
  },
  {
   "cell_type": "code",
   "execution_count": 18,
   "metadata": {},
   "outputs": [],
   "source": [
    "# IV (6-arguments case)\n",
    "mortality_vc_l00 = [get_excess_mortality(protagonist=protagonist_l00_jstf[i], medication=\"vc\", bins=5, label=\"λ=0.0\", seed=seed) for i, seed in enumerate(seeds)]\n",
    "mortality_vc_l25 = [get_excess_mortality(protagonist=protagonist_l25_jstf[i], medication=\"vc\", bins=5, label=\"λ=0.25\", seed=seed) for i, seed in enumerate(seeds)]\n",
    "mortality_vc_l50 = [get_excess_mortality(protagonist=protagonist_l50_jstf[i], medication=\"vc\", bins=5, label=\"λ=0.50\", seed=seed) for i, seed in enumerate(seeds)]\n",
    "mortality_vc_l75 = [get_excess_mortality(protagonist=protagonist_l75_jstf[i], medication=\"vc\", bins=5, label=\"λ=0.75\", seed=seed) for i, seed in enumerate(seeds)]\n",
    "mortality_vc_l100 = [get_excess_mortality(protagonist=protagonist_l100_jstf[i], medication=\"vc\", bins=5, label=\"λ=1.0\", seed=seed) for i, seed in enumerate(seeds)]\n",
    "mortality_vc = pd.concat(mortality_vc_l00 + mortality_vc_l25 + mortality_vc_l50 + mortality_vc_l75 + mortality_vc_l100)\n",
    "mortality_vc.to_csv(results_dir / \"protagonist_mortality_vc.csv\", index=False)\n",
    "\n",
    "# VC (6-arguments case)\n",
    "mortality_iv_l00 = [get_excess_mortality(protagonist=protagonist_l00_jstf[i], medication=\"iv\", bins=7, label=\"λ=0.0\", seed=seed) for i, seed in enumerate(seeds)]\n",
    "mortality_iv_l25 = [get_excess_mortality(protagonist=protagonist_l25_jstf[i], medication=\"iv\", bins=7, label=\"λ=0.25\", seed=seed) for i, seed in enumerate(seeds)]\n",
    "mortality_iv_l50 = [get_excess_mortality(protagonist=protagonist_l50_jstf[i], medication=\"iv\", bins=7, label=\"λ=0.50\", seed=seed) for i, seed in enumerate(seeds)]\n",
    "mortality_iv_l75 = [get_excess_mortality(protagonist=protagonist_l75_jstf[i], medication=\"iv\", bins=7, label=\"λ=0.75\", seed=seed) for i, seed in enumerate(seeds)]\n",
    "mortality_iv_l100 = [get_excess_mortality(protagonist=protagonist_l100_jstf[i], medication=\"iv\", bins=7, label=\"λ=1.0\", seed=seed) for i, seed in enumerate(seeds)]\n",
    "mortality_iv = pd.concat(mortality_iv_l00 + mortality_iv_l25 + mortality_iv_l50 + mortality_iv_l75 + mortality_iv_l100)\n",
    "mortality_iv.to_csv(results_dir / \"protagonist_mortality_iv.csv\", index=False)"
   ]
  },
  {
   "cell_type": "code",
   "execution_count": 16,
   "metadata": {},
   "outputs": [],
   "source": [
    "# IV (4-arguments case)\n",
    "mortality_vc_l00_4arg = [get_excess_mortality(protagonist=protagonist_l00_jstf_4arg[i], medication=\"vc\", bins=5, label=\"λ=0.0\", seed=seed) for i, seed in enumerate(seeds)]\n",
    "mortality_vc_l25_4arg = [get_excess_mortality(protagonist=protagonist_l25_jstf_4arg[i], medication=\"vc\", bins=5, label=\"λ=0.25\", seed=seed) for i, seed in enumerate(seeds)]\n",
    "mortality_vc_l50_4arg = [get_excess_mortality(protagonist=protagonist_l50_jstf_4arg[i], medication=\"vc\", bins=5, label=\"λ=0.50\", seed=seed) for i, seed in enumerate(seeds)]\n",
    "mortality_vc_l75_4arg = [get_excess_mortality(protagonist=protagonist_l75_jstf_4arg[i], medication=\"vc\", bins=5, label=\"λ=0.75\", seed=seed) for i, seed in enumerate(seeds)]\n",
    "mortality_vc_l100_4arg = [get_excess_mortality(protagonist=protagonist_l100_jstf_4arg[i], medication=\"vc\", bins=5, label=\"λ=1.0\", seed=seed) for i, seed in enumerate(seeds)]\n",
    "mortality_vc_4arg = pd.concat(mortality_vc_l00_4arg + mortality_vc_l25_4arg + mortality_vc_l50_4arg + mortality_vc_l75_4arg + mortality_vc_l100_4arg)\n",
    "mortality_vc_4arg.to_csv(results_dir / \"protagonist_mortality_vc_4arg.csv\", index=False)\n",
    "\n",
    "# VC (4-arguments case)\n",
    "mortality_iv_l00_4arg = [get_excess_mortality(protagonist=protagonist_l00_jstf_4arg[i], medication=\"iv\", bins=7, label=\"λ=0.0\", seed=seed) for i, seed in enumerate(seeds)]\n",
    "mortality_iv_l25_4arg = [get_excess_mortality(protagonist=protagonist_l25_jstf_4arg[i], medication=\"iv\", bins=7, label=\"λ=0.25\", seed=seed) for i, seed in enumerate(seeds)]\n",
    "mortality_iv_l50_4arg = [get_excess_mortality(protagonist=protagonist_l50_jstf_4arg[i], medication=\"iv\", bins=7, label=\"λ=0.50\", seed=seed) for i, seed in enumerate(seeds)]\n",
    "mortality_iv_l75_4arg = [get_excess_mortality(protagonist=protagonist_l75_jstf_4arg[i], medication=\"iv\", bins=7, label=\"λ=0.75\", seed=seed) for i, seed in enumerate(seeds)]\n",
    "mortality_iv_l100_4arg = [get_excess_mortality(protagonist=protagonist_l100_jstf_4arg[i], medication=\"iv\", bins=7, label=\"λ=1.0\", seed=seed) for i, seed in enumerate(seeds)]\n",
    "mortality_iv_4arg = pd.concat(mortality_iv_l00_4arg + mortality_iv_l25_4arg + mortality_iv_l50_4arg + mortality_iv_l75_4arg + mortality_iv_l100_4arg)\n",
    "mortality_iv_4arg.to_csv(results_dir / \"protagonist_mortality_iv_4arg.csv\", index=False)"
   ]
  },
  {
   "cell_type": "markdown",
   "metadata": {},
   "source": [
    "### Action Distribution\n",
    "\n",
    "To better understand the peculiarities of learned policies, we plot their action distribution."
   ]
  },
  {
   "cell_type": "code",
   "execution_count": 28,
   "metadata": {},
   "outputs": [],
   "source": [
    "data_raw = pd.read_csv(\"./assets/data/sepsis/sepsis_final_data_raw.csv\")"
   ]
  },
  {
   "cell_type": "code",
   "execution_count": 29,
   "metadata": {},
   "outputs": [],
   "source": [
    "_, dataloader, _ = get_patient_dataset(data_dict=test_dict, batch_size=128, use_dem=True, mask=True, shuffle=False, num_workers=0)"
   ]
  },
  {
   "cell_type": "code",
   "execution_count": 31,
   "metadata": {},
   "outputs": [],
   "source": [
    "data_filtered = data_raw[(data_raw[\"r:reward\"] != 0) & (data_raw[\"o:SOFA\"] >= 5) & (data_raw[\"o:SOFA\"] <= 15)]\n",
    "ids = data_filtered[\"traj\"].tolist()\n",
    "_, dataloader, _ = get_patient_dataset(data_dict=test_dict, filter_ids=ids, batch_size=256, use_dem=True, mask=True, num_workers=0, device=device)"
   ]
  },
  {
   "cell_type": "code",
   "execution_count": 20,
   "metadata": {},
   "outputs": [
    {
     "data": {
      "image/png": "[encoded data removed]",
      "text/plain": [
       "<Figure size 2000x2000 with 26 Axes>"
      ]
     },
     "metadata": {},
     "output_type": "display_data"
    }
   ],
   "source": [
    "fig, ax = plt.subplots(4, 4, figsize=(20, 20))\n",
    "\n",
    "# plots clinician's distribution (first row)\n",
    "counts = get_action_counts(dataloader, None, device=device)\n",
    "_ = sns.heatmap(data=counts.reshape((5, 5)), annot=False, linewidth=0.5, fmt=\"d\", cmap=\"YlGn\", ax=ax[0, 0])\n",
    "_ = ax[0, 0].invert_yaxis()\n",
    "\n",
    "# plots baseline policy (second row)\n",
    "counts = get_action_counts(dataloader, protagonist_l00_jstf, device=device)\n",
    "_ = sns.heatmap(data=counts.reshape((5, 5)), annot=False, linewidth=0.5, fmt=\"d\", cmap=\"YlGn\", ax=ax[1, 0])\n",
    "_ = ax[1, 0].invert_yaxis()\n",
    "\n",
    "# plots justifiable (partial-context) policies (third row)\n",
    "for act_ind, policy in enumerate([protagonist_l25_jstf, protagonist_l50_jstf, protagonist_l75_jstf, protagonist_l100_jstf]):\n",
    "    counts = get_action_counts(dataloader, policy, device=device)\n",
    "    _ = sns.heatmap(data=counts.reshape((5, 5)), annot=False, linewidth=0.5, fmt=\"d\", cmap=\"YlGn\", ax=ax[2, act_ind])\n",
    "    _ = ax[2, act_ind].invert_yaxis()\n",
    "\n",
    "# plots aligned (full-context) policies (fourth row)\n",
    "for act_ind, policy in enumerate([protagonist_l25_jstf, protagonist_l50_jstf, protagonist_l75_jstf, protagonist_l100_jstf]):\n",
    "    counts = get_action_counts(dataloader, policy, device=device)\n",
    "    _ = sns.heatmap(data=counts.reshape((5, 5)), annot=False, linewidth=0.5, fmt=\"d\", cmap=\"YlGn\", ax=ax[3, act_ind])\n",
    "    _ = ax[3, act_ind].invert_yaxis()"
   ]
  },
  {
   "cell_type": "markdown",
   "metadata": {},
   "source": [
    "### Full vs Partial Context\n",
    "\n",
    "In this section we showcase the judge's preference over policies trained with full-state vs. partial (6 arguments) judge. "
   ]
  },
  {
   "cell_type": "code",
   "execution_count": 60,
   "metadata": {},
   "outputs": [],
   "source": [
    "_, dataloader, _ = get_judge_dataset(data_dict=None, load_path=\"./assets/data/sepsis/test_preferences.pt\", batch_size=256, num_workers=0)"
   ]
  },
  {
   "cell_type": "markdown",
   "metadata": {},
   "source": [
    "Evaluate the 6-arg case."
   ]
  },
  {
   "cell_type": "code",
   "execution_count": 61,
   "metadata": {},
   "outputs": [
    {
     "name": "stderr",
     "output_type": "stream",
     "text": [
      "100%|██████████| 145/145 [00:02<00:00, 59.19it/s]\n",
      "100%|██████████| 145/145 [00:01<00:00, 75.14it/s]\n",
      "100%|██████████| 145/145 [00:02<00:00, 65.98it/s]\n",
      "100%|██████████| 145/145 [00:01<00:00, 85.87it/s]\n",
      "100%|██████████| 145/145 [00:02<00:00, 71.20it/s]\n",
      "100%|██████████| 145/145 [00:01<00:00, 80.30it/s]\n",
      "100%|██████████| 145/145 [00:01<00:00, 74.13it/s]\n",
      "100%|██████████| 145/145 [00:01<00:00, 78.92it/s]\n",
      "100%|██████████| 145/145 [00:01<00:00, 75.48it/s]\n",
      "100%|██████████| 145/145 [00:03<00:00, 48.19it/s]\n",
      "100%|██████████| 145/145 [00:01<00:00, 77.40it/s]\n",
      "100%|██████████| 145/145 [00:01<00:00, 95.46it/s] \n",
      "100%|██████████| 145/145 [00:02<00:00, 59.34it/s]\n",
      "100%|██████████| 145/145 [00:02<00:00, 63.96it/s]\n",
      "100%|██████████| 145/145 [00:02<00:00, 64.66it/s]\n",
      "100%|██████████| 145/145 [00:02<00:00, 56.52it/s]\n",
      "100%|██████████| 145/145 [00:02<00:00, 53.64it/s]\n",
      "100%|██████████| 145/145 [00:01<00:00, 76.46it/s]\n",
      "100%|██████████| 145/145 [00:02<00:00, 58.46it/s]\n",
      "100%|██████████| 145/145 [00:02<00:00, 71.88it/s]\n",
      "100%|██████████| 145/145 [00:02<00:00, 59.46it/s]\n",
      "100%|██████████| 145/145 [00:02<00:00, 60.16it/s]\n",
      "100%|██████████| 145/145 [00:02<00:00, 55.85it/s]\n",
      "100%|██████████| 145/145 [00:02<00:00, 50.27it/s]\n",
      "100%|██████████| 145/145 [00:03<00:00, 45.10it/s]\n",
      "100%|██████████| 145/145 [00:02<00:00, 53.48it/s]\n",
      "100%|██████████| 145/145 [00:02<00:00, 54.43it/s]\n",
      "100%|██████████| 145/145 [00:02<00:00, 52.10it/s]\n",
      "100%|██████████| 145/145 [00:02<00:00, 57.81it/s]\n",
      "100%|██████████| 145/145 [00:01<00:00, 78.62it/s]\n",
      "100%|██████████| 145/145 [00:02<00:00, 68.23it/s]\n",
      "100%|██████████| 145/145 [00:02<00:00, 66.35it/s]\n",
      "100%|██████████| 145/145 [00:02<00:00, 71.20it/s]\n",
      "100%|██████████| 145/145 [00:01<00:00, 78.11it/s]\n",
      "100%|██████████| 145/145 [00:02<00:00, 69.68it/s]\n",
      "100%|██████████| 145/145 [00:01<00:00, 83.27it/s]\n",
      "100%|██████████| 145/145 [00:02<00:00, 51.31it/s]\n",
      "100%|██████████| 145/145 [00:02<00:00, 54.77it/s]\n",
      "100%|██████████| 145/145 [00:02<00:00, 59.29it/s]\n",
      "100%|██████████| 145/145 [00:02<00:00, 67.36it/s]\n"
     ]
    }
   ],
   "source": [
    "data = pd.DataFrame(\n",
    "    [{\"label\": \"λ=0.25\", \"kind\": \"partial context\", \"seed\": seed, \"preference\": full_vs_partial_context(policy=protagonist_l25_jstf[i], dataloader=dataloader, device=device)} for i, seed in enumerate(seeds)] +\n",
    "    [{\"label\": \"λ=0.25\", \"kind\": \"full context\", \"seed\": seed, \"preference\": full_vs_partial_context(policy=protagonist_l25_full_state[i], dataloader=dataloader, device=device)} for i, seed in enumerate(seeds)] +\n",
    "    [{\"label\": \"λ=0.50\", \"kind\": \"partial context\", \"seed\": seed, \"preference\": full_vs_partial_context(policy=protagonist_l50_jstf[i], dataloader=dataloader, device=device)} for i, seed in enumerate(seeds)] +\n",
    "    [{\"label\": \"λ=0.50\", \"kind\": \"full context\", \"seed\": seed, \"preference\": full_vs_partial_context(policy=protagonist_l50_full_state[i], dataloader=dataloader, device=device)} for i, seed in enumerate(seeds)] +\n",
    "    [{\"label\": \"λ=0.75\", \"kind\": \"partial context\", \"seed\": seed, \"preference\": full_vs_partial_context(policy=protagonist_l75_jstf[i], dataloader=dataloader, device=device)} for i, seed in enumerate(seeds)] +\n",
    "    [{\"label\": \"λ=0.75\", \"kind\": \"full context\", \"seed\": seed, \"preference\": full_vs_partial_context(policy=protagonist_l75_full_state[i], dataloader=dataloader, device=device)} for i, seed in enumerate(seeds)] +\n",
    "    [{\"label\": \"λ=1.0\", \"kind\": \"partial context\", \"seed\": seed, \"preference\": full_vs_partial_context(policy=protagonist_l100_jstf[i], dataloader=dataloader, device=device)} for i, seed in enumerate(seeds)] +\n",
    "    [{\"label\": \"λ=1.0\", \"kind\": \"full context\", \"seed\": seed, \"preference\": full_vs_partial_context(policy=protagonist_l100_full_state[i], dataloader=dataloader, device=device)} for i, seed in enumerate(seeds)])\n",
    "data.to_csv(results_dir / \"protagonist_full_vs_partial_context.csv\", index=False)"
   ]
  },
  {
   "cell_type": "markdown",
   "metadata": {},
   "source": [
    "Evaluate the 4-arg case."
   ]
  },
  {
   "cell_type": "code",
   "execution_count": 62,
   "metadata": {},
   "outputs": [
    {
     "name": "stderr",
     "output_type": "stream",
     "text": [
      "  0%|          | 0/145 [00:00<?, ?it/s]"
     ]
    },
    {
     "name": "stderr",
     "output_type": "stream",
     "text": [
      "100%|██████████| 145/145 [00:01<00:00, 78.60it/s]\n",
      "100%|██████████| 145/145 [00:02<00:00, 68.84it/s]\n",
      "100%|██████████| 145/145 [00:01<00:00, 110.05it/s]\n",
      "100%|██████████| 145/145 [00:01<00:00, 111.34it/s]\n",
      "100%|██████████| 145/145 [00:01<00:00, 98.36it/s]\n",
      "100%|██████████| 145/145 [00:02<00:00, 65.78it/s]\n",
      "100%|██████████| 145/145 [00:01<00:00, 85.79it/s] \n",
      "100%|██████████| 145/145 [00:01<00:00, 101.86it/s]\n",
      "100%|██████████| 145/145 [00:01<00:00, 93.62it/s] \n",
      "100%|██████████| 145/145 [00:01<00:00, 84.69it/s]\n",
      "100%|██████████| 145/145 [00:01<00:00, 79.88it/s]\n",
      "100%|██████████| 145/145 [00:02<00:00, 63.91it/s]\n",
      "100%|██████████| 145/145 [00:01<00:00, 75.05it/s]\n",
      "100%|██████████| 145/145 [00:01<00:00, 102.35it/s]\n",
      "100%|██████████| 145/145 [00:02<00:00, 65.72it/s]\n",
      "100%|██████████| 145/145 [00:02<00:00, 60.05it/s]\n",
      "100%|██████████| 145/145 [00:02<00:00, 71.45it/s]\n",
      "100%|██████████| 145/145 [00:02<00:00, 63.17it/s]\n",
      "100%|██████████| 145/145 [00:01<00:00, 107.90it/s]\n",
      "100%|██████████| 145/145 [00:01<00:00, 72.73it/s]\n",
      "100%|██████████| 145/145 [00:02<00:00, 70.75it/s]\n",
      "100%|██████████| 145/145 [00:01<00:00, 83.33it/s] \n",
      "100%|██████████| 145/145 [00:01<00:00, 87.81it/s] \n",
      "100%|██████████| 145/145 [00:01<00:00, 87.45it/s] \n",
      "100%|██████████| 145/145 [00:01<00:00, 75.37it/s] \n",
      "100%|██████████| 145/145 [00:01<00:00, 75.97it/s]\n",
      "100%|██████████| 145/145 [00:01<00:00, 74.84it/s]\n",
      "100%|██████████| 145/145 [00:01<00:00, 100.53it/s]\n",
      "100%|██████████| 145/145 [00:02<00:00, 67.07it/s]\n",
      "100%|██████████| 145/145 [00:01<00:00, 75.21it/s]\n",
      "100%|██████████| 145/145 [00:02<00:00, 69.19it/s]\n",
      "100%|██████████| 145/145 [00:02<00:00, 62.00it/s]\n",
      "100%|██████████| 145/145 [00:02<00:00, 71.22it/s]\n",
      "100%|██████████| 145/145 [00:02<00:00, 59.29it/s]\n",
      "100%|██████████| 145/145 [00:01<00:00, 74.37it/s]\n",
      "100%|██████████| 145/145 [00:02<00:00, 55.28it/s]\n",
      "100%|██████████| 145/145 [00:01<00:00, 74.12it/s]\n",
      "100%|██████████| 145/145 [00:02<00:00, 51.10it/s]\n",
      "100%|██████████| 145/145 [00:02<00:00, 68.50it/s]\n",
      "100%|██████████| 145/145 [00:01<00:00, 77.27it/s]\n"
     ]
    }
   ],
   "source": [
    "data = pd.DataFrame(\n",
    "    [{\"label\": \"λ=0.25\", \"kind\": \"partial context\", \"seed\": seed, \"preference\": full_vs_partial_context(policy=protagonist_l25_jstf_4arg[i], dataloader=dataloader, device=device)} for i, seed in enumerate(seeds)] +\n",
    "    [{\"label\": \"λ=0.25\", \"kind\": \"full context\", \"seed\": seed, \"preference\": full_vs_partial_context(policy=protagonist_l25_full_state[i], dataloader=dataloader, device=device)} for i, seed in enumerate(seeds)] +\n",
    "    [{\"label\": \"λ=0.50\", \"kind\": \"partial context\", \"seed\": seed, \"preference\": full_vs_partial_context(policy=protagonist_l50_jstf_4arg[i], dataloader=dataloader, device=device)} for i, seed in enumerate(seeds)] +\n",
    "    [{\"label\": \"λ=0.50\", \"kind\": \"full context\", \"seed\": seed, \"preference\": full_vs_partial_context(policy=protagonist_l50_full_state[i], dataloader=dataloader, device=device)} for i, seed in enumerate(seeds)] +\n",
    "    [{\"label\": \"λ=0.75\", \"kind\": \"partial context\", \"seed\": seed, \"preference\": full_vs_partial_context(policy=protagonist_l75_jstf_4arg[i], dataloader=dataloader, device=device)} for i, seed in enumerate(seeds)] +\n",
    "    [{\"label\": \"λ=0.75\", \"kind\": \"full context\", \"seed\": seed, \"preference\": full_vs_partial_context(policy=protagonist_l75_full_state[i], dataloader=dataloader, device=device)} for i, seed in enumerate(seeds)] +\n",
    "    [{\"label\": \"λ=1.0\", \"kind\": \"partial context\", \"seed\": seed, \"preference\": full_vs_partial_context(policy=protagonist_l100_jstf_4arg[i], dataloader=dataloader, device=device)} for i, seed in enumerate(seeds)] +\n",
    "    [{\"label\": \"λ=1.0\", \"kind\": \"full context\", \"seed\": seed, \"preference\": full_vs_partial_context(policy=protagonist_l100_full_state[i], dataloader=dataloader, device=device)} for i, seed in enumerate(seeds)])\n",
    "data.to_csv(results_dir / \"protagonist_full_vs_partial_context_4arg.csv\", index=False)"
   ]
  },
  {
   "cell_type": "markdown",
   "metadata": {},
   "source": [
    "## Qualitative Evaluation\n",
    "\n",
    "In this section, we review agents trained with different levels of $\\lambda$ parameter, showcasing their target performance in terms of WIS evaluation as well as the level of justifiability compared to the baseline policy trained with $\\lambda=0.0$."
   ]
  },
  {
   "attachments": {},
   "cell_type": "markdown",
   "metadata": {},
   "source": [
    "### Justifiability Comparison\n",
    "\n",
    "In this section, we calculate the judge's preference over the baseline policy."
   ]
  },
  {
   "cell_type": "markdown",
   "metadata": {},
   "source": [
    "Evaluate the 6-arg case."
   ]
  },
  {
   "cell_type": "code",
   "execution_count": 20,
   "metadata": {},
   "outputs": [],
   "source": [
    "_, dataloader, _ = get_patient_dataset(data_dict=test_dict, batch_size=256, use_dem=True, mask=True, shuffle=False, num_workers=0)"
   ]
  },
  {
   "cell_type": "code",
   "execution_count": 17,
   "metadata": {},
   "outputs": [],
   "source": [
    "data = []\n",
    "for act_ind in range(len(seeds)):\n",
    "    data += [\n",
    "        {\"label\": \"λ=0.25\", \"justifiability\": jstf(justifiable=protagonist_l25_jstf[act_ind], baseline=protagonist_l00_jstf[act_ind], dataloader=dataloader, argumentator=argumentator, judge=judge, device=device)},\n",
    "        {\"label\": \"λ=0.50\", \"justifiability\": jstf(justifiable=protagonist_l50_jstf[act_ind], baseline=protagonist_l00_jstf[act_ind], dataloader=dataloader, argumentator=argumentator, judge=judge, device=device)},\n",
    "        {\"label\": \"λ=0.75\", \"justifiability\": jstf(justifiable=protagonist_l75_jstf[act_ind], baseline=protagonist_l00_jstf[act_ind], dataloader=dataloader, argumentator=argumentator, judge=judge, device=device)},\n",
    "        {\"label\": \"λ=1.0\", \"justifiability\": jstf(justifiable=protagonist_l100_jstf[act_ind], baseline=protagonist_l00_jstf[act_ind], dataloader=dataloader, argumentator=argumentator, judge=judge, device=device)},\n",
    "    ]\n",
    "data = pd.DataFrame(data).round(decimals=2)\n",
    "data.to_csv(results_dir / \"protagonist_jstf_vs_baseline_per.csv\", index=False)"
   ]
  },
  {
   "cell_type": "code",
   "execution_count": 27,
   "metadata": {},
   "outputs": [],
   "source": [
    "data = []\n",
    "for act_ind in range(len(seeds)):\n",
    "    data = []\n",
    "    data += [{\"label\": \"λ=0.25\", \"justifiability\": j} for j in jstf(justifiable=protagonist_l25_jstf[act_ind], baseline=protagonist_l00_jstf[act_ind], dataloader=dataloader, argumentator=argumentator, judge=judge, device=device, report_percentage=False)]\n",
    "    data += [{\"label\": \"λ=0.50\", \"justifiability\": j} for j in jstf(justifiable=protagonist_l50_jstf[act_ind], baseline=protagonist_l00_jstf[act_ind], dataloader=dataloader, argumentator=argumentator, judge=judge, device=device, report_percentage=False)]\n",
    "    data += [{\"label\": \"λ=0.75\", \"justifiability\": j} for j in jstf(justifiable=protagonist_l75_jstf[act_ind], baseline=protagonist_l00_jstf[act_ind], dataloader=dataloader, argumentator=argumentator, judge=judge, device=device, report_percentage=False)]\n",
    "    data += [{\"label\": \"λ=1.0\", \"justifiability\": j} for j in jstf(justifiable=protagonist_l100_jstf[act_ind], baseline=protagonist_l00_jstf[act_ind], dataloader=dataloader, argumentator=argumentator, judge=judge, device=device, report_percentage=False)]\n",
    "data = pd.DataFrame(data).round(decimals=2)\n",
    "data.to_csv(results_dir / \"protagonist_jstf_vs_baseline_dist.csv\", index=False)"
   ]
  },
  {
   "cell_type": "markdown",
   "metadata": {},
   "source": [
    "We also record discrepancy between actions proposed by the justifiable and baseline agent."
   ]
  },
  {
   "cell_type": "code",
   "execution_count": null,
   "metadata": {},
   "outputs": [],
   "source": [
    "def eval_equivalent(justifiable, baseline, dataloader, device=\"cuda\"):\n",
    "    result = torch.empty((0, ), dtype=torch.int, device=device)\n",
    "\n",
    "    for s_t, _, _, _, _ in dataloader:\n",
    "        s_t = s_t.to(device)\n",
    "        a_justifiable = torch.tensor(justifiable(Batch(obs=s_t, info={})).act, device=device)\n",
    "        a_baseline = torch.tensor(baseline(Batch(obs=s_t, info={})).act, device=device)\n",
    "        result = torch.cat((result, (a_justifiable == a_baseline).int()))\n",
    "\n",
    "    return result.tolist()"
   ]
  },
  {
   "cell_type": "code",
   "execution_count": null,
   "metadata": {},
   "outputs": [],
   "source": [
    "data = []\n",
    "for act_ind in range(len(seeds)):\n",
    "    data = []\n",
    "    data += [{\"label\": \"λ=0.25\", \"equal\": j} for j in eval_equivalent(justifiable=protagonist_l25_jstf[act_ind], baseline=protagonist_l00_jstf[act_ind], dataloader=dataloader, device=device)]\n",
    "    data += [{\"label\": \"λ=0.50\", \"equal\": j} for j in eval_equivalent(justifiable=protagonist_l50_jstf[act_ind], baseline=protagonist_l00_jstf[act_ind], dataloader=dataloader, device=device)]\n",
    "    data += [{\"label\": \"λ=0.75\", \"equal\": j} for j in eval_equivalent(justifiable=protagonist_l75_jstf[act_ind], baseline=protagonist_l00_jstf[act_ind], dataloader=dataloader, device=device)]\n",
    "    data += [{\"label\": \"λ=1.0\", \"equal\": j} for j in eval_equivalent(justifiable=protagonist_l100_jstf[act_ind], baseline=protagonist_l00_jstf[act_ind], dataloader=dataloader, device=device)]\n",
    "data = pd.DataFrame(data).round(decimals=2)\n",
    "data.to_csv(results_dir / \"protagonist_jstf_vs_baseline_eq.csv\", index=False)"
   ]
  },
  {
   "cell_type": "markdown",
   "metadata": {},
   "source": [
    "Evaluate the 4-arg case by repeating all previous evaluations."
   ]
  },
  {
   "cell_type": "code",
   "execution_count": 18,
   "metadata": {},
   "outputs": [],
   "source": [
    "data = []\n",
    "for act_ind in range(len(seeds)):\n",
    "    data += [\n",
    "        {\"label\": \"λ=0.25\", \"justifiability\": jstf(justifiable=protagonist_l25_jstf_4arg[act_ind], baseline=protagonist_l00_jstf_4arg[act_ind], dataloader=dataloader, argumentator=argumentator_4arg, judge=judge_4arg, device=device)},\n",
    "        {\"label\": \"λ=0.50\", \"justifiability\": jstf(justifiable=protagonist_l50_jstf_4arg[act_ind], baseline=protagonist_l00_jstf_4arg[act_ind], dataloader=dataloader, argumentator=argumentator_4arg, judge=judge_4arg, device=device)},\n",
    "        {\"label\": \"λ=0.75\", \"justifiability\": jstf(justifiable=protagonist_l75_jstf_4arg[act_ind], baseline=protagonist_l00_jstf_4arg[act_ind], dataloader=dataloader, argumentator=argumentator_4arg, judge=judge_4arg, device=device)},\n",
    "        {\"label\": \"λ=1.0\", \"justifiability\": jstf(justifiable=protagonist_l100_jstf_4arg[act_ind], baseline=protagonist_l00_jstf_4arg[act_ind], dataloader=dataloader, argumentator=argumentator_4arg, judge=judge_4arg, device=device)},\n",
    "    ]\n",
    "data = pd.DataFrame(data)\n",
    "data.to_csv(results_dir / \"protagonist_jstf_vs_baseline_per_4arg.csv\", index=False)"
   ]
  },
  {
   "cell_type": "code",
   "execution_count": 26,
   "metadata": {},
   "outputs": [],
   "source": [
    "data = []\n",
    "for act_ind in range(len(seeds)):\n",
    "    data = []\n",
    "    data += [{\"label\": \"λ=0.25\", \"justifiability\": j} for j in jstf(justifiable=protagonist_l25_jstf_4arg[act_ind], baseline=protagonist_l00_jstf_4arg[act_ind], dataloader=dataloader, argumentator=argumentator, judge=judge, device=device, report_percentage=False)]\n",
    "    data += [{\"label\": \"λ=0.50\", \"justifiability\": j} for j in jstf(justifiable=protagonist_l50_jstf_4arg[act_ind], baseline=protagonist_l00_jstf_4arg[act_ind], dataloader=dataloader, argumentator=argumentator, judge=judge, device=device, report_percentage=False)]\n",
    "    data += [{\"label\": \"λ=0.75\", \"justifiability\": j} for j in jstf(justifiable=protagonist_l75_jstf_4arg[act_ind], baseline=protagonist_l00_jstf_4arg[act_ind], dataloader=dataloader, argumentator=argumentator, judge=judge, device=device, report_percentage=False)]\n",
    "    data += [{\"label\": \"λ=1.0\", \"justifiability\": j} for j in jstf(justifiable=protagonist_l100_jstf_4arg[act_ind], baseline=protagonist_l00_jstf_4arg[act_ind], dataloader=dataloader, argumentator=argumentator, judge=judge, device=device, report_percentage=False)]\n",
    "data = pd.DataFrame(data).round(decimals=2)\n",
    "data.to_csv(results_dir / \"protagonist_jstf_vs_baseline_dist_4arg.csv\", index=False)"
   ]
  },
  {
   "cell_type": "code",
   "execution_count": 34,
   "metadata": {},
   "outputs": [],
   "source": [
    "data = []\n",
    "for act_ind in range(len(seeds)):\n",
    "    data = []\n",
    "    data += [{\"label\": \"λ=0.25\", \"equal\": j} for j in eval_equivalent(justifiable=protagonist_l25_jstf_4arg[act_ind], baseline=protagonist_l00_jstf[act_ind], dataloader=dataloader, device=device)]\n",
    "    data += [{\"label\": \"λ=0.50\", \"equal\": j} for j in eval_equivalent(justifiable=protagonist_l50_jstf_4arg[act_ind], baseline=protagonist_l00_jstf[act_ind], dataloader=dataloader, device=device)]\n",
    "    data += [{\"label\": \"λ=0.75\", \"equal\": j} for j in eval_equivalent(justifiable=protagonist_l75_jstf_4arg[act_ind], baseline=protagonist_l00_jstf[act_ind], dataloader=dataloader, device=device)]\n",
    "    data += [{\"label\": \"λ=1.0\", \"equal\": j} for j in eval_equivalent(justifiable=protagonist_l100_jstf_4arg[act_ind], baseline=protagonist_l00_jstf[act_ind], dataloader=dataloader, device=device)]\n",
    "data = pd.DataFrame(data).round(decimals=2)\n",
    "data.to_csv(results_dir / \"protagonist_jstf_vs_baseline_eq_4arg.csv\", index=False)"
   ]
  },
  {
   "attachments": {},
   "cell_type": "markdown",
   "metadata": {},
   "source": [
    "### Training WIS Evaluation\n",
    "\n",
    "In this section, we calculate (or rather, preprocess) the off-policy weighted importance sampling evaluation for different values of the $\\lambda$ justifiability parameter during the course of training."
   ]
  },
  {
   "cell_type": "code",
   "execution_count": 27,
   "metadata": {},
   "outputs": [],
   "source": [
    "eval_l00 = [pickle.load(open(f\"./assets/models/protagonist/ddqn/justifiable/6/l00/evaluations-s{s}.pkl\", \"rb\")) for s in seeds]\n",
    "eval_l25 = [pickle.load(open(f\"./assets/models/protagonist/ddqn/justifiable/6/l25/evaluations-s{s}.pkl\", \"rb\")) for s in seeds]\n",
    "eval_l50 = [pickle.load(open(f\"./assets/models/protagonist/ddqn/justifiable/6/l50/evaluations-s{s}.pkl\", \"rb\")) for s in seeds]\n",
    "eval_l75 = [pickle.load(open(f\"./assets/models/protagonist/ddqn/justifiable/6/l75/evaluations-s{s}.pkl\", \"rb\")) for s in seeds]\n",
    "eval_l100 = [pickle.load(open(f\"./assets/models/protagonist/ddqn/justifiable/6/l100/evaluations-s{s}.pkl\", \"rb\")) for s in seeds]"
   ]
  },
  {
   "cell_type": "code",
   "execution_count": 28,
   "metadata": {},
   "outputs": [],
   "source": [
    "_, dataloader, _ = get_patient_dataset(data_dict=test_dict, batch_size=256, num_workers=0, shuffle=False, mask=False)\n",
    "eval_clinician = wis_clinician(clinician=clinician, patients=dataloader, discount=discount, device=device)"
   ]
  },
  {
   "cell_type": "code",
   "execution_count": 29,
   "metadata": {},
   "outputs": [],
   "source": [
    "eval_l00_mean = np.array(list(map(lambda x: x[\"wis\"], eval_l00))).mean(axis=0).tolist()\n",
    "eval_l00_std = np.array(list(map(lambda x: x[\"wis\"], eval_l00))).std(axis=0).tolist()\n",
    "eval_l00_data =  [{\"wis\": x, \"time_step\": i, \"label\": \"λ=0.0\"} for i, x in enumerate(eval_l00_mean)]\n",
    "eval_l00_data += [{\"wis\": x + sd, \"time_step\": i, \"label\": \"λ=0.0\"} for i, (x, sd) in enumerate(zip(eval_l00_mean, eval_l00_std))]\n",
    "eval_l00_data += [{\"wis\": x - sd, \"time_step\": i, \"label\": \"λ=0.0\"} for i, (x, sd) in enumerate(zip(eval_l00_mean, eval_l00_std))]\n",
    "\n",
    "eval_l25_mean = np.array(list(map(lambda x: x[\"wis\"], eval_l25))).mean(axis=0).tolist()\n",
    "eval_l25_std = np.array(list(map(lambda x: x[\"wis\"], eval_l25))).std(axis=0).tolist()\n",
    "eval_l25_data =  [{\"wis\": x, \"time_step\": i, \"label\": \"λ=0.25\"} for i, x in enumerate(eval_l25_mean)]\n",
    "eval_l25_data += [{\"wis\": x + sd, \"time_step\": i, \"label\": \"λ=0.25\"} for i, (x, sd) in enumerate(zip(eval_l25_mean, eval_l25_std))]\n",
    "eval_l25_data += [{\"wis\": x - sd, \"time_step\": i, \"label\": \"λ=0.25\"} for i, (x, sd) in enumerate(zip(eval_l25_mean, eval_l25_std))]\n",
    "\n",
    "eval_l50_mean = np.array(list(map(lambda x: x[\"wis\"], eval_l50))).mean(axis=0).tolist()\n",
    "eval_l50_std = np.array(list(map(lambda x: x[\"wis\"], eval_l50))).std(axis=0).tolist()\n",
    "eval_l50_data =  [{\"wis\": x, \"time_step\": i, \"label\": \"λ=0.50\"} for i, x in enumerate(eval_l50_mean)]\n",
    "eval_l50_data += [{\"wis\": x + sd, \"time_step\": i, \"label\": \"λ=0.50\"} for i, (x, sd) in enumerate(zip(eval_l50_mean, eval_l50_std))]\n",
    "eval_l50_data += [{\"wis\": x - sd, \"time_step\": i, \"label\": \"λ=0.50\"} for i, (x, sd) in enumerate(zip(eval_l50_mean, eval_l50_std))]\n",
    "\n",
    "eval_l75_mean = np.array(list(map(lambda x: x[\"wis\"], eval_l75))).mean(axis=0).tolist()\n",
    "eval_l75_std = np.array(list(map(lambda x: x[\"wis\"], eval_l75))).std(axis=0).tolist()\n",
    "eval_l75_data =  [{\"wis\": x, \"time_step\": i, \"label\": \"λ=0.75\"} for i, x in enumerate(eval_l75_mean)]\n",
    "eval_l75_data += [{\"wis\": x + sd, \"time_step\": i, \"label\": \"λ=0.75\"} for i, (x, sd) in enumerate(zip(eval_l75_mean, eval_l75_std))]\n",
    "eval_l75_data += [{\"wis\": x - sd, \"time_step\": i, \"label\": \"λ=0.75\"} for i, (x, sd) in enumerate(zip(eval_l75_mean, eval_l75_std))]\n",
    "\n",
    "eval_l100_mean = np.array(list(map(lambda x: x[\"wis\"], eval_l100))).mean(axis=0).tolist()\n",
    "eval_l100_std = np.array(list(map(lambda x: x[\"wis\"], eval_l100))).std(axis=0).tolist()\n",
    "eval_l100_data =  [{\"wis\": x, \"time_step\": i, \"label\": \"λ=1.0\"} for i, x in enumerate(eval_l100_mean)]\n",
    "eval_l100_data += [{\"wis\": x + sd, \"time_step\": i, \"label\": \"λ=1.0\"} for i, (x, sd) in enumerate(zip(eval_l100_mean, eval_l100_std))]\n",
    "eval_l100_data += [{\"wis\": x - sd, \"time_step\": i, \"label\": \"λ=1.0\"} for i, (x, sd) in enumerate(zip(eval_l100_mean, eval_l100_std))]\n",
    "\n",
    "eval_clinician_mean = [eval_clinician for _ in range(len(eval_l100_mean))]\n",
    "eval_clinician_data = [{\"wis\": x, \"time_step\": i, \"label\": \"clinician\"} for i, x in enumerate(eval_clinician_mean)]\n",
    "\n",
    "eval_wis_data = pd.DataFrame(eval_l00_data + eval_l25_data + eval_l50_data + eval_l75_data + eval_l100_data + eval_clinician_data)\n",
    "eval_wis_data.to_csv(results_dir / \"protagonist_wis.csv\", index=False)"
   ]
  },
  {
   "cell_type": "markdown",
   "metadata": {},
   "source": [
    "Repeat the preprocessing for the 4-arg case."
   ]
  },
  {
   "cell_type": "code",
   "execution_count": 31,
   "metadata": {},
   "outputs": [],
   "source": [
    "eval_l00 = [pickle.load(open(f\"./assets/models/protagonist/ddqn/justifiable/4/l00/evaluations-s{s}.pkl\", \"rb\")) for s in seeds]\n",
    "eval_l25 = [pickle.load(open(f\"./assets/models/protagonist/ddqn/justifiable/4/l25/evaluations-s{s}.pkl\", \"rb\")) for s in seeds]\n",
    "eval_l50 = [pickle.load(open(f\"./assets/models/protagonist/ddqn/justifiable/4/l50/evaluations-s{s}.pkl\", \"rb\")) for s in seeds]\n",
    "eval_l75 = [pickle.load(open(f\"./assets/models/protagonist/ddqn/justifiable/4/l75/evaluations-s{s}.pkl\", \"rb\")) for s in seeds]\n",
    "eval_l100 = [pickle.load(open(f\"./assets/models/protagonist/ddqn/justifiable/4/l100/evaluations-s{s}.pkl\", \"rb\")) for s in seeds]"
   ]
  },
  {
   "cell_type": "code",
   "execution_count": 32,
   "metadata": {},
   "outputs": [],
   "source": [
    "_, dataloader, _ = get_patient_dataset(data_dict=test_dict, batch_size=256, num_workers=0, shuffle=False, mask=False)\n",
    "eval_clinician = wis_clinician(clinician=clinician, patients=dataloader, discount=discount, device=device)"
   ]
  },
  {
   "cell_type": "code",
   "execution_count": 33,
   "metadata": {},
   "outputs": [],
   "source": [
    "eval_l00_mean = np.array(list(map(lambda x: x[\"wis\"], eval_l00))).mean(axis=0).tolist()\n",
    "eval_l00_std = np.array(list(map(lambda x: x[\"wis\"], eval_l00))).std(axis=0).tolist()\n",
    "eval_l00_data =  [{\"wis\": x, \"time_step\": i, \"label\": \"λ=0.0\"} for i, x in enumerate(eval_l00_mean)]\n",
    "eval_l00_data += [{\"wis\": x + sd, \"time_step\": i, \"label\": \"λ=0.0\"} for i, (x, sd) in enumerate(zip(eval_l00_mean, eval_l00_std))]\n",
    "eval_l00_data += [{\"wis\": x - sd, \"time_step\": i, \"label\": \"λ=0.0\"} for i, (x, sd) in enumerate(zip(eval_l00_mean, eval_l00_std))]\n",
    "\n",
    "eval_l25_mean = np.array(list(map(lambda x: x[\"wis\"], eval_l25))).mean(axis=0).tolist()\n",
    "eval_l25_std = np.array(list(map(lambda x: x[\"wis\"], eval_l25))).std(axis=0).tolist()\n",
    "eval_l25_data =  [{\"wis\": x, \"time_step\": i, \"label\": \"λ=0.25\"} for i, x in enumerate(eval_l25_mean)]\n",
    "eval_l25_data += [{\"wis\": x + sd, \"time_step\": i, \"label\": \"λ=0.25\"} for i, (x, sd) in enumerate(zip(eval_l25_mean, eval_l25_std))]\n",
    "eval_l25_data += [{\"wis\": x - sd, \"time_step\": i, \"label\": \"λ=0.25\"} for i, (x, sd) in enumerate(zip(eval_l25_mean, eval_l25_std))]\n",
    "\n",
    "eval_l50_mean = np.array(list(map(lambda x: x[\"wis\"], eval_l50))).mean(axis=0).tolist()\n",
    "eval_l50_std = np.array(list(map(lambda x: x[\"wis\"], eval_l50))).std(axis=0).tolist()\n",
    "eval_l50_data =  [{\"wis\": x, \"time_step\": i, \"label\": \"λ=0.50\"} for i, x in enumerate(eval_l50_mean)]\n",
    "eval_l50_data += [{\"wis\": x + sd, \"time_step\": i, \"label\": \"λ=0.50\"} for i, (x, sd) in enumerate(zip(eval_l50_mean, eval_l50_std))]\n",
    "eval_l50_data += [{\"wis\": x - sd, \"time_step\": i, \"label\": \"λ=0.50\"} for i, (x, sd) in enumerate(zip(eval_l50_mean, eval_l50_std))]\n",
    "\n",
    "eval_l75_mean = np.array(list(map(lambda x: x[\"wis\"], eval_l75))).mean(axis=0).tolist()\n",
    "eval_l75_std = np.array(list(map(lambda x: x[\"wis\"], eval_l75))).std(axis=0).tolist()\n",
    "eval_l75_data =  [{\"wis\": x, \"time_step\": i, \"label\": \"λ=0.75\"} for i, x in enumerate(eval_l75_mean)]\n",
    "eval_l75_data += [{\"wis\": x + sd, \"time_step\": i, \"label\": \"λ=0.75\"} for i, (x, sd) in enumerate(zip(eval_l75_mean, eval_l75_std))]\n",
    "eval_l75_data += [{\"wis\": x - sd, \"time_step\": i, \"label\": \"λ=0.75\"} for i, (x, sd) in enumerate(zip(eval_l75_mean, eval_l75_std))]\n",
    "\n",
    "eval_l100_mean = np.array(list(map(lambda x: x[\"wis\"], eval_l100))).mean(axis=0).tolist()\n",
    "eval_l100_std = np.array(list(map(lambda x: x[\"wis\"], eval_l100))).std(axis=0).tolist()\n",
    "eval_l100_data =  [{\"wis\": x, \"time_step\": i, \"label\": \"λ=1.0\"} for i, x in enumerate(eval_l100_mean)]\n",
    "eval_l100_data += [{\"wis\": x + sd, \"time_step\": i, \"label\": \"λ=1.0\"} for i, (x, sd) in enumerate(zip(eval_l100_mean, eval_l100_std))]\n",
    "eval_l100_data += [{\"wis\": x - sd, \"time_step\": i, \"label\": \"λ=1.0\"} for i, (x, sd) in enumerate(zip(eval_l100_mean, eval_l100_std))]\n",
    "\n",
    "eval_clinician_mean = [eval_clinician for _ in range(len(eval_l100_mean))]\n",
    "eval_clinician_data = [{\"wis\": x, \"time_step\": i, \"label\": \"clinician\"} for i, x in enumerate(eval_clinician_mean)]\n",
    "\n",
    "eval_wis_data = pd.DataFrame(eval_l00_data + eval_l25_data + eval_l50_data + eval_l75_data + eval_l100_data + eval_clinician_data)\n",
    "eval_wis_data.to_csv(results_dir / \"protagonist_wis_4arg.csv\", index=False)"
   ]
  },
  {
   "cell_type": "markdown",
   "metadata": {},
   "source": [
    "Repeat the evaluation for policies trained with a full-state jude case."
   ]
  },
  {
   "cell_type": "code",
   "execution_count": 35,
   "metadata": {},
   "outputs": [],
   "source": [
    "eval_l00 = [pickle.load(open(f\"./assets/models/protagonist/ddqn/full_state/l00/evaluations-s{s}.pkl\", \"rb\")) for s in seeds]\n",
    "eval_l25 = [pickle.load(open(f\"./assets/models/protagonist/ddqn/full_state/l25/evaluations-s{s}.pkl\", \"rb\")) for s in seeds]\n",
    "eval_l50 = [pickle.load(open(f\"./assets/models/protagonist/ddqn/full_state/l50/evaluations-s{s}.pkl\", \"rb\")) for s in seeds]\n",
    "eval_l75 = [pickle.load(open(f\"./assets/models/protagonist/ddqn/full_state/l75/evaluations-s{s}.pkl\", \"rb\")) for s in seeds]\n",
    "eval_l100 = [pickle.load(open(f\"./assets/models/protagonist/ddqn/full_state/l100/evaluations-s{s}.pkl\", \"rb\")) for s in seeds]"
   ]
  },
  {
   "cell_type": "code",
   "execution_count": 36,
   "metadata": {},
   "outputs": [],
   "source": [
    "_, dataloader, _ = get_patient_dataset(data_dict=test_dict, batch_size=256, num_workers=0, shuffle=False, mask=False)\n",
    "eval_clinician = wis_clinician(clinician=clinician, patients=dataloader, discount=discount, device=device)"
   ]
  },
  {
   "cell_type": "code",
   "execution_count": 37,
   "metadata": {},
   "outputs": [],
   "source": [
    "eval_l00_mean = np.array(list(map(lambda x: x[\"wis\"], eval_l00))).mean(axis=0).tolist()\n",
    "eval_l00_std = np.array(list(map(lambda x: x[\"wis\"], eval_l00))).std(axis=0).tolist()\n",
    "eval_l00_data =  [{\"wis\": x, \"time_step\": i, \"label\": \"λ=0.0\"} for i, x in enumerate(eval_l00_mean)]\n",
    "eval_l00_data += [{\"wis\": x + sd, \"time_step\": i, \"label\": \"λ=0.0\"} for i, (x, sd) in enumerate(zip(eval_l00_mean, eval_l00_std))]\n",
    "eval_l00_data += [{\"wis\": x - sd, \"time_step\": i, \"label\": \"λ=0.0\"} for i, (x, sd) in enumerate(zip(eval_l00_mean, eval_l00_std))]\n",
    "\n",
    "eval_l25_mean = np.array(list(map(lambda x: x[\"wis\"], eval_l25))).mean(axis=0).tolist()\n",
    "eval_l25_std = np.array(list(map(lambda x: x[\"wis\"], eval_l25))).std(axis=0).tolist()\n",
    "eval_l25_data =  [{\"wis\": x, \"time_step\": i, \"label\": \"λ=0.25\"} for i, x in enumerate(eval_l25_mean)]\n",
    "eval_l25_data += [{\"wis\": x + sd, \"time_step\": i, \"label\": \"λ=0.25\"} for i, (x, sd) in enumerate(zip(eval_l25_mean, eval_l25_std))]\n",
    "eval_l25_data += [{\"wis\": x - sd, \"time_step\": i, \"label\": \"λ=0.25\"} for i, (x, sd) in enumerate(zip(eval_l25_mean, eval_l25_std))]\n",
    "\n",
    "eval_l50_mean = np.array(list(map(lambda x: x[\"wis\"], eval_l50))).mean(axis=0).tolist()\n",
    "eval_l50_std = np.array(list(map(lambda x: x[\"wis\"], eval_l50))).std(axis=0).tolist()\n",
    "eval_l50_data =  [{\"wis\": x, \"time_step\": i, \"label\": \"λ=0.50\"} for i, x in enumerate(eval_l50_mean)]\n",
    "eval_l50_data += [{\"wis\": x + sd, \"time_step\": i, \"label\": \"λ=0.50\"} for i, (x, sd) in enumerate(zip(eval_l50_mean, eval_l50_std))]\n",
    "eval_l50_data += [{\"wis\": x - sd, \"time_step\": i, \"label\": \"λ=0.50\"} for i, (x, sd) in enumerate(zip(eval_l50_mean, eval_l50_std))]\n",
    "\n",
    "eval_l75_mean = np.array(list(map(lambda x: x[\"wis\"], eval_l75))).mean(axis=0).tolist()\n",
    "eval_l75_std = np.array(list(map(lambda x: x[\"wis\"], eval_l75))).std(axis=0).tolist()\n",
    "eval_l75_data =  [{\"wis\": x, \"time_step\": i, \"label\": \"λ=0.75\"} for i, x in enumerate(eval_l75_mean)]\n",
    "eval_l75_data += [{\"wis\": x + sd, \"time_step\": i, \"label\": \"λ=0.75\"} for i, (x, sd) in enumerate(zip(eval_l75_mean, eval_l75_std))]\n",
    "eval_l75_data += [{\"wis\": x - sd, \"time_step\": i, \"label\": \"λ=0.75\"} for i, (x, sd) in enumerate(zip(eval_l75_mean, eval_l75_std))]\n",
    "\n",
    "eval_l100_mean = np.array(list(map(lambda x: x[\"wis\"], eval_l100))).mean(axis=0).tolist()\n",
    "eval_l100_std = np.array(list(map(lambda x: x[\"wis\"], eval_l100))).std(axis=0).tolist()\n",
    "eval_l100_data =  [{\"wis\": x, \"time_step\": i, \"label\": \"λ=1.0\"} for i, x in enumerate(eval_l100_mean)]\n",
    "eval_l100_data += [{\"wis\": x + sd, \"time_step\": i, \"label\": \"λ=1.0\"} for i, (x, sd) in enumerate(zip(eval_l100_mean, eval_l100_std))]\n",
    "eval_l100_data += [{\"wis\": x - sd, \"time_step\": i, \"label\": \"λ=1.0\"} for i, (x, sd) in enumerate(zip(eval_l100_mean, eval_l100_std))]\n",
    "\n",
    "eval_clinician_mean = [eval_clinician for _ in range(len(eval_l100_mean))]\n",
    "eval_clinician_data = [{\"wis\": x, \"time_step\": i, \"label\": \"clinician\"} for i, x in enumerate(eval_clinician_mean)]\n",
    "\n",
    "eval_wis_data = pd.DataFrame(eval_l00_data + eval_l25_data + eval_l50_data + eval_l75_data + eval_l100_data + eval_clinician_data)\n",
    "eval_wis_data.to_csv(results_dir / \"protagonist_wis_full_state.csv\", index=False)"
   ]
  }
 ],
 "metadata": {
  "kernelspec": {
   "display_name": "argo",
   "language": "python",
   "name": "python3"
  },
  "language_info": {
   "codemirror_mode": {
    "name": "ipython",
    "version": 3
   },
   "file_extension": ".py",
   "mimetype": "text/x-python",
   "name": "python",
   "nbconvert_exporter": "python",
   "pygments_lexer": "ipython3",
   "version": "3.9.13"
  },
  "orig_nbformat": 4
 },
 "nbformat": 4,
 "nbformat_minor": 2
}
